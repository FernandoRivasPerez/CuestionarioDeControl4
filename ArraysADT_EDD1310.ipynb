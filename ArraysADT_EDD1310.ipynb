{
  "nbformat": 4,
  "nbformat_minor": 0,
  "metadata": {
    "colab": {
      "name": "ArraysADT_EDD1310.ipynb",
      "provenance": []
    },
    "kernelspec": {
      "name": "python3",
      "display_name": "Python 3"
    },
    "language_info": {
      "name": "python"
    }
  },
  "cells": [
    {
      "cell_type": "markdown",
      "metadata": {
        "id": "-ifp-fo-fsCP"
      },
      "source": [
        ""
      ]
    },
    {
      "cell_type": "code",
      "metadata": {
        "colab": {
          "base_uri": "https://localhost:8080/"
        },
        "id": "nMBSO875fl_v",
        "outputId": "1dd9a166-4e1e-4a00-d8ba-050c9c2d2f50"
      },
      "source": [
        "class Array:\n",
        "    def __init__( self , tam ):\n",
        "        self.__tamanio = tam\n",
        "        self.__data = [ 0 for x in range(self.__tamanio) ]\n",
        "\n",
        "    def to_string( self ):\n",
        "        info = \"\"\n",
        "        for dato in self.__data:\n",
        "            info = info + str(dato) + \" \"\n",
        "        return info\n",
        "\n",
        "    def get_item( self , index ):\n",
        "        return self.__data[index]\n",
        "\n",
        "    def get_length( self ):\n",
        "        return len( self.__data )\n",
        "\n",
        "    def set_item( self , dato , index):\n",
        "        # hace falta revisar limites\n",
        "        if index >= 0 and index < self.get_length():\n",
        "            self.__data[index] = dato\n",
        "        else:\n",
        "            print(\"Error: indice fuera de rango\")\n",
        "    \n",
        "    def clear( self , dato ):\n",
        "        self.__data = [ dato for x in range(self.__tamanio) ]\n",
        "\n",
        "\n",
        "ejemplo = Array(20)\n",
        "print( ejemplo.to_string() )\n",
        "print( ejemplo.get_item(2) )\n",
        "ejemplo.set_item( 45 , 2 )\n",
        "print( ejemplo.to_string() )\n",
        "ejemplo.clear( 4 )\n",
        "print( ejemplo.to_string() )\n",
        "print( ejemplo.get_length() )"
      ],
      "execution_count": 3,
      "outputs": [
        {
          "output_type": "stream",
          "name": "stdout",
          "text": [
            "0 0 0 0 0 0 0 0 0 0 0 0 0 0 0 0 0 0 0 0 \n",
            "0\n",
            "0 0 45 0 0 0 0 0 0 0 0 0 0 0 0 0 0 0 0 0 \n",
            "4 4 4 4 4 4 4 4 4 4 4 4 4 4 4 4 4 4 4 4 \n",
            "20\n"
          ]
        }
      ]
    },
    {
      "cell_type": "markdown",
      "metadata": {
        "id": "4nwJX109lTSn"
      },
      "source": [
        "La carpeta de datos es volátil...\n"
      ]
    },
    {
      "cell_type": "code",
      "metadata": {
        "colab": {
          "base_uri": "https://localhost:8080/"
        },
        "id": "qT3HKtj7lqU7",
        "outputId": "42750d5b-7577-47ed-f2bb-c34d0d776842"
      },
      "source": [
        "!cat junio.dat"
      ],
      "execution_count": 6,
      "outputs": [
        {
          "output_type": "stream",
          "name": "stdout",
          "text": [
            "numero de trabajador, nombres, paterno, materno, horas extra, sueldo base, año de ingreso\r\n",
            "2345,CARLOS,PEREZ,CASTILLO,0,9850,2017\r\n",
            "5754,ANGEL,GOMEZ,GARRIDO,1,9850,2020\r\n",
            "5345,JESUS,MARTIN,SANTOS,2,9850,2016\r\n",
            "3267,DAVID,JIMENEZ,LOZANO,2,9850,2017\r\n",
            "8765,PEDRO,RUIZ,GUERRERO,2,9850,2017\r\n",
            "5454,DANIEL,HERNANDEZ,CANO,3,9850,2018\r\n",
            "3456,ALEJANDRO,DIAZ,PRIETO,2,9850,2018\r\n",
            "3445,MARIA,MORENO,MENDEZ,1,9850,2018\r\n",
            "9088,ALBERTO,MU�OZ,CRUZ,1,9850,2017\r\n",
            "8877,RAFAEL,ALVAREZ,FLORES,2,9850,2017\r\n",
            "6767,FERNANDO,ROMERO,HERRERA,4,9850,2019\r\n",
            "5654,PABLO,ALONSO,GALLEGO,1,9850,2019\r\n",
            "4323,JORGE,GUTIERREZ,MARQUEZ,2,9850,2020\r\n",
            "2232,RAMON,NAVARRO,LEON,1,9850,2016"
          ]
        }
      ]
    },
    {
      "cell_type": "code",
      "metadata": {
        "colab": {
          "base_uri": "https://localhost:8080/"
        },
        "id": "TD1_dc5cm7_o",
        "outputId": "d2b1c645-4baa-4fcb-86da-1f07feafe6c9"
      },
      "source": [
        "archivo = open('junio.dat', 'rt' , encoding='latin-1')\n",
        "print(archivo.read())"
      ],
      "execution_count": 7,
      "outputs": [
        {
          "output_type": "stream",
          "name": "stdout",
          "text": [
            "numero de trabajador, nombres, paterno, materno, horas extra, sueldo base, aÃ±o de ingreso\n",
            "2345,CARLOS,PEREZ,CASTILLO,0,9850,2017\n",
            "5754,ANGEL,GOMEZ,GARRIDO,1,9850,2020\n",
            "5345,JESUS,MARTIN,SANTOS,2,9850,2016\n",
            "3267,DAVID,JIMENEZ,LOZANO,2,9850,2017\n",
            "8765,PEDRO,RUIZ,GUERRERO,2,9850,2017\n",
            "5454,DANIEL,HERNANDEZ,CANO,3,9850,2018\n",
            "3456,ALEJANDRO,DIAZ,PRIETO,2,9850,2018\n",
            "3445,MARIA,MORENO,MENDEZ,1,9850,2018\n",
            "9088,ALBERTO,MUOZ,CRUZ,1,9850,2017\n",
            "8877,RAFAEL,ALVAREZ,FLORES,2,9850,2017\n",
            "6767,FERNANDO,ROMERO,HERRERA,4,9850,2019\n",
            "5654,PABLO,ALONSO,GALLEGO,1,9850,2019\n",
            "4323,JORGE,GUTIERREZ,MARQUEZ,2,9850,2020\n",
            "2232,RAMON,NAVARRO,LEON,1,9850,2016\n"
          ]
        }
      ]
    },
    {
      "cell_type": "code",
      "metadata": {
        "id": "v7A4hMaSn4sD"
      },
      "source": [
        "class Trabajador:\n",
        "    def __init__( self, nt, nom, pat, mat, he, sb, ai ):\n",
        "        self.__numero_trabajador = nt\n",
        "        self.__nombre = nom\n",
        "        self.__ap_paterno = pat\n",
        "        self.__ap_materno = mat\n",
        "        self.__horas_extra = he\n",
        "        self.__sueldo_base = sb\n",
        "        self.__año_ingreso = ai\n",
        "\n",
        "    def get_numero_trabajador( self , nt ):\n",
        "        self.__numero_trabajador = nt\n",
        "    \n",
        "    def set_numero_trabajador( self , nt ):\n",
        "        self.__numero_trabajador = nt\n",
        "    \n",
        "    def get_nombre( self , nom ):\n",
        "        self.__nombre = nom\n",
        "    \n",
        "    def set_nombre( self , nom ):\n",
        "        self.__nombre = nom\n",
        "\n",
        "    def get_ap_paterno( self , pat ):\n",
        "        self.__ap_paterno = pat\n",
        "    \n",
        "    def set_ap_paterno( self , pat ):\n",
        "        self.__ap_paterno = pat\n",
        "     \n",
        "    #aqui van todos los metodos de acceso\n",
        "\n",
        "    #metodos de uso gral. ---> metodos que hacen calculos de la logica\n",
        "\n"
      ],
      "execution_count": null,
      "outputs": []
    },
    {
      "cell_type": "code",
      "metadata": {
        "id": "TrjfJw61qDe9"
      },
      "source": [
        "class NominaADT:\n",
        "    def __init__( self , ruta_archivo ):\n",
        "        #abrir el archivo y determinar el numero de empleados ---> num_emp\n",
        "        self.__data = Array( num_emp )\n",
        "\n",
        "    def calcular_sueldos( self ):\n",
        "        #iterar sobre el Array y hacer el calculo de sueldos\n",
        "    \n",
        "    def buscar_mas_antiguo( self ):\n",
        "        #iterar y buscará en el Array el de mayor antiguedad en el puesto\n",
        "    \n",
        "    def buscar_menor_antiguedad( self ): \n",
        "        #idem"
      ],
      "execution_count": null,
      "outputs": []
    }
  ]
}